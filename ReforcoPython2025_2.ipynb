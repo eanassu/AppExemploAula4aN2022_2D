{
  "nbformat": 4,
  "nbformat_minor": 0,
  "metadata": {
    "colab": {
      "provenance": [],
      "authorship_tag": "ABX9TyO4XYTuXkDm8YMKOdfT0899",
      "include_colab_link": true
    },
    "kernelspec": {
      "name": "python3",
      "display_name": "Python 3"
    },
    "language_info": {
      "name": "python"
    }
  },
  "cells": [
    {
      "cell_type": "markdown",
      "metadata": {
        "id": "view-in-github",
        "colab_type": "text"
      },
      "source": [
        "<a href=\"https://colab.research.google.com/github/eanassu/AppExemploAula4aN2022_2D/blob/master/ReforcoPython2025_2.ipynb\" target=\"_parent\"><img src=\"https://colab.research.google.com/assets/colab-badge.svg\" alt=\"Open In Colab\"/></a>"
      ]
    },
    {
      "cell_type": "markdown",
      "source": [
        "primeiro programa em Python"
      ],
      "metadata": {
        "id": "uEy1M4pmt4eZ"
      }
    },
    {
      "cell_type": "code",
      "execution_count": null,
      "metadata": {
        "colab": {
          "base_uri": "https://localhost:8080/"
        },
        "id": "E5a9N4uQTaSV",
        "outputId": "a9e84caa-86a0-4b9d-88ba-055235940c0c"
      },
      "outputs": [
        {
          "output_type": "stream",
          "name": "stdout",
          "text": [
            "Hello World!\n"
          ]
        }
      ],
      "source": [
        "print('Hello World!')"
      ]
    },
    {
      "cell_type": "markdown",
      "source": [
        "Tipos de dados:\n",
        "\n",
        "*   Texto\n",
        "*   Numéricos: int, float, complex\n",
        "*   sequências: list, tuple, range\n",
        "*   mapas: dict\n",
        "*   conjuntos: set, frozenset\n",
        "*   booleano: bool\n",
        "*   tipos binários: bytes, bytearray, memoryview\n",
        "*   NoneType\n",
        "\n"
      ],
      "metadata": {
        "id": "RMkLOZo5uIra"
      }
    },
    {
      "cell_type": "code",
      "source": [],
      "metadata": {
        "id": "GjSu24JCvJuy"
      },
      "execution_count": null,
      "outputs": []
    },
    {
      "cell_type": "code",
      "source": [
        "Constantes:\n",
        "\n",
        "inteiros: base 2, 8, 10 e 16"
      ],
      "metadata": {
        "id": "WqaJ9kTWvZUS"
      },
      "execution_count": null,
      "outputs": []
    },
    {
      "cell_type": "code",
      "source": [
        "print(10000000000022020001020)\n",
        "print(1_000_000_000)\n",
        "print(0B111111)\n",
        "print(0b101011101)\n",
        "print(0o6473)\n",
        "print(0O7654)\n",
        "print(0X123ACBDFF)\n"
      ],
      "metadata": {
        "colab": {
          "base_uri": "https://localhost:8080/"
        },
        "id": "iwC5n2lwvjNb",
        "outputId": "f0a482aa-a308-4e53-8ffb-1508e717ae45"
      },
      "execution_count": null,
      "outputs": [
        {
          "output_type": "stream",
          "name": "stdout",
          "text": [
            "10000000000022020001020\n",
            "1000000000\n",
            "63\n",
            "349\n",
            "3387\n",
            "4012\n",
            "4893490687\n"
          ]
        }
      ]
    },
    {
      "cell_type": "markdown",
      "source": [
        "Constantes reais"
      ],
      "metadata": {
        "id": "ShP99aCIxm6N"
      }
    },
    {
      "cell_type": "code",
      "source": [
        "print(1.5)\n",
        "print(.5)\n",
        "print(.1234)\n",
        "print(1E10)\n",
        "print(6.02e23)\n",
        "print(5e-2)\n",
        "print(2e-50)"
      ],
      "metadata": {
        "colab": {
          "base_uri": "https://localhost:8080/"
        },
        "id": "d7bakc2HxmL9",
        "outputId": "7ca0d7b7-eab2-47e3-f4d6-bfc4203ed38a"
      },
      "execution_count": null,
      "outputs": [
        {
          "output_type": "stream",
          "name": "stdout",
          "text": [
            "1.5\n",
            "0.5\n",
            "0.1234\n",
            "10000000000.0\n",
            "6.02e+23\n",
            "0.05\n",
            "2e-50\n"
          ]
        }
      ]
    },
    {
      "cell_type": "markdown",
      "source": [
        "Números complexos: o número imaginário é representado por j"
      ],
      "metadata": {
        "id": "svlJgsDSzB3s"
      }
    },
    {
      "cell_type": "code",
      "source": [
        "print(1+1j)"
      ],
      "metadata": {
        "colab": {
          "base_uri": "https://localhost:8080/"
        },
        "id": "fZidjNnWzIuz",
        "outputId": "6508028c-c373-4374-82c9-6ba57fd5ebf8"
      },
      "execution_count": null,
      "outputs": [
        {
          "output_type": "stream",
          "name": "stdout",
          "text": [
            "(1+1j)\n"
          ]
        }
      ]
    },
    {
      "cell_type": "markdown",
      "source": [
        "textos: \" ou '"
      ],
      "metadata": {
        "id": "cxjQYZXqzehn"
      }
    },
    {
      "cell_type": "code",
      "source": [
        "print(\"Hello\")\n",
        "print('Hello')"
      ],
      "metadata": {
        "colab": {
          "base_uri": "https://localhost:8080/"
        },
        "id": "UuQ1YSzLziB7",
        "outputId": "8c006acd-3ea9-43a6-89be-3e634ac2a66b"
      },
      "execution_count": null,
      "outputs": [
        {
          "output_type": "stream",
          "name": "stdout",
          "text": [
            "Hello\n",
            "Hello\n"
          ]
        }
      ]
    },
    {
      "cell_type": "markdown",
      "source": [
        "Comandos de entrada e saída\n",
        "\n",
        "print - saída\n",
        "input - entrada"
      ],
      "metadata": {
        "id": "dnLRZNF4z6AG"
      }
    },
    {
      "cell_type": "code",
      "source": [
        "x = input('digite seu nome')\n",
        "print('seu nome: ' + x )"
      ],
      "metadata": {
        "colab": {
          "base_uri": "https://localhost:8080/"
        },
        "id": "byvXtGDU0HCr",
        "outputId": "12503acf-f080-41a6-adc4-e5692deee45f"
      },
      "execution_count": null,
      "outputs": [
        {
          "output_type": "stream",
          "name": "stdout",
          "text": [
            "digite seu nomeEugenio\n",
            "seu nome: Eugenio\n"
          ]
        }
      ]
    },
    {
      "cell_type": "markdown",
      "source": [
        "Variável\n",
        "\n",
        "Parte da memória reservada, associada a um valor e a um tipo de dados, que armazena um valor\n",
        "Diz-se variável por esse valor pode ser alterado ou lido\n",
        "No programa acima, ela armazena um nome\n",
        "Em python, o tipo é definido no momento que a variável recebe o valor"
      ],
      "metadata": {
        "id": "_4GgRZCi0-FT"
      }
    },
    {
      "cell_type": "code",
      "source": [
        "x = int(input('digite um número:'))\n",
        "y = int(input('digite outro número:'))\n",
        "z = x + y\n",
        "print(z)"
      ],
      "metadata": {
        "colab": {
          "base_uri": "https://localhost:8080/",
          "height": 211
        },
        "id": "XPTepXR10oU7",
        "outputId": "a553baec-1d2f-47db-a503-2f62bc5dad7c"
      },
      "execution_count": null,
      "outputs": [
        {
          "name": "stdout",
          "output_type": "stream",
          "text": [
            "digite um número:1.5\n"
          ]
        },
        {
          "output_type": "error",
          "ename": "ValueError",
          "evalue": "invalid literal for int() with base 10: '1.5'",
          "traceback": [
            "\u001b[0;31m---------------------------------------------------------------------------\u001b[0m",
            "\u001b[0;31mValueError\u001b[0m                                Traceback (most recent call last)",
            "\u001b[0;32m/tmp/ipython-input-1800125783.py\u001b[0m in \u001b[0;36m<cell line: 0>\u001b[0;34m()\u001b[0m\n\u001b[0;32m----> 1\u001b[0;31m \u001b[0mx\u001b[0m \u001b[0;34m=\u001b[0m \u001b[0mint\u001b[0m\u001b[0;34m(\u001b[0m\u001b[0minput\u001b[0m\u001b[0;34m(\u001b[0m\u001b[0;34m'digite um número:'\u001b[0m\u001b[0;34m)\u001b[0m\u001b[0;34m)\u001b[0m\u001b[0;34m\u001b[0m\u001b[0;34m\u001b[0m\u001b[0m\n\u001b[0m\u001b[1;32m      2\u001b[0m \u001b[0my\u001b[0m \u001b[0;34m=\u001b[0m \u001b[0mint\u001b[0m\u001b[0;34m(\u001b[0m\u001b[0minput\u001b[0m\u001b[0;34m(\u001b[0m\u001b[0;34m'digite outro número:'\u001b[0m\u001b[0;34m)\u001b[0m\u001b[0;34m)\u001b[0m\u001b[0;34m\u001b[0m\u001b[0;34m\u001b[0m\u001b[0m\n\u001b[1;32m      3\u001b[0m \u001b[0mz\u001b[0m \u001b[0;34m=\u001b[0m \u001b[0mx\u001b[0m \u001b[0;34m+\u001b[0m \u001b[0my\u001b[0m\u001b[0;34m\u001b[0m\u001b[0;34m\u001b[0m\u001b[0m\n\u001b[1;32m      4\u001b[0m \u001b[0mprint\u001b[0m\u001b[0;34m(\u001b[0m\u001b[0mz\u001b[0m\u001b[0;34m)\u001b[0m\u001b[0;34m\u001b[0m\u001b[0;34m\u001b[0m\u001b[0m\n",
            "\u001b[0;31mValueError\u001b[0m: invalid literal for int() with base 10: '1.5'"
          ]
        }
      ]
    },
    {
      "cell_type": "code",
      "source": [
        "x = float(input('digite um número'))\n",
        "y = float(input('digite outro número'))\n",
        "z = x + y\n",
        "print(z)"
      ],
      "metadata": {
        "colab": {
          "base_uri": "https://localhost:8080/"
        },
        "id": "SbL6M-2G13_U",
        "outputId": "696e2f60-63bd-49b0-c490-ded0d1831980"
      },
      "execution_count": null,
      "outputs": [
        {
          "output_type": "stream",
          "name": "stdout",
          "text": [
            "digite um número1.2\n",
            "digite outro número4.789\n",
            "5.989\n"
          ]
        }
      ]
    },
    {
      "cell_type": "markdown",
      "source": [
        "```\n",
        "Operadores\n",
        "+\n",
        "-\n",
        "*\n",
        "/ - divisão real\n",
        "// - parte inteira da divisão\n",
        "% - resto da divisão\n",
        "** - potência\n",
        "\n",
        "```\n",
        "\n",
        "\n"
      ],
      "metadata": {
        "id": "kp1OrK_O2dmX"
      }
    },
    {
      "cell_type": "code",
      "source": [
        "print( 1/2 )\n",
        "print( 1//2 )\n",
        "print( 7//2 )\n",
        "print( 7 % 2 )\n",
        "print( 10 % 4 )\n",
        "print( 5 ** 3 )\n",
        "print( 1/0 )\n",
        "print( 1//0 )"
      ],
      "metadata": {
        "colab": {
          "base_uri": "https://localhost:8080/",
          "height": 297
        },
        "id": "-PeqIANV2NzK",
        "outputId": "3a486fcb-f9c6-4de5-d6cd-aab632ea097b"
      },
      "execution_count": null,
      "outputs": [
        {
          "output_type": "stream",
          "name": "stdout",
          "text": [
            "0.5\n",
            "0\n",
            "3\n",
            "1\n",
            "2\n",
            "125\n"
          ]
        },
        {
          "output_type": "error",
          "ename": "ZeroDivisionError",
          "evalue": "division by zero",
          "traceback": [
            "\u001b[0;31m---------------------------------------------------------------------------\u001b[0m",
            "\u001b[0;31mZeroDivisionError\u001b[0m                         Traceback (most recent call last)",
            "\u001b[0;32m/tmp/ipython-input-896580108.py\u001b[0m in \u001b[0;36m<cell line: 0>\u001b[0;34m()\u001b[0m\n\u001b[1;32m      5\u001b[0m \u001b[0mprint\u001b[0m\u001b[0;34m(\u001b[0m \u001b[0;36m10\u001b[0m \u001b[0;34m%\u001b[0m \u001b[0;36m4\u001b[0m \u001b[0;34m)\u001b[0m\u001b[0;34m\u001b[0m\u001b[0;34m\u001b[0m\u001b[0m\n\u001b[1;32m      6\u001b[0m \u001b[0mprint\u001b[0m\u001b[0;34m(\u001b[0m \u001b[0;36m5\u001b[0m \u001b[0;34m**\u001b[0m \u001b[0;36m3\u001b[0m \u001b[0;34m)\u001b[0m\u001b[0;34m\u001b[0m\u001b[0;34m\u001b[0m\u001b[0m\n\u001b[0;32m----> 7\u001b[0;31m \u001b[0mprint\u001b[0m\u001b[0;34m(\u001b[0m \u001b[0;36m1\u001b[0m\u001b[0;34m/\u001b[0m\u001b[0;36m0\u001b[0m \u001b[0;34m)\u001b[0m\u001b[0;34m\u001b[0m\u001b[0;34m\u001b[0m\u001b[0m\n\u001b[0m\u001b[1;32m      8\u001b[0m \u001b[0mprint\u001b[0m\u001b[0;34m(\u001b[0m \u001b[0;36m1\u001b[0m\u001b[0;34m//\u001b[0m\u001b[0;36m0\u001b[0m \u001b[0;34m)\u001b[0m\u001b[0;34m\u001b[0m\u001b[0;34m\u001b[0m\u001b[0m\n",
            "\u001b[0;31mZeroDivisionError\u001b[0m: division by zero"
          ]
        }
      ]
    },
    {
      "cell_type": "code",
      "source": [
        "#Beecrowd 1001\n",
        "\n",
        "A = int(input())\n",
        "B = int(input())\n",
        "X = A + B\n",
        "print(f'X = {X}')\n"
      ],
      "metadata": {
        "colab": {
          "base_uri": "https://localhost:8080/"
        },
        "id": "9ChF45PE47RF",
        "outputId": "f09ded50-ecc7-49e2-b843-5fcfd08bb651"
      },
      "execution_count": null,
      "outputs": [
        {
          "output_type": "stream",
          "name": "stdout",
          "text": [
            "4\n",
            "6\n",
            "X = 10\n"
          ]
        }
      ]
    },
    {
      "cell_type": "code",
      "source": [
        "# BeeCrowd 1002\n",
        "\n",
        "raio = float(input())\n",
        "area = raio ** 2 * 3.14159\n",
        "print(f'A={area:.4f}')"
      ],
      "metadata": {
        "colab": {
          "base_uri": "https://localhost:8080/"
        },
        "id": "IaJRkg1Y6IvO",
        "outputId": "72613a0b-1c97-4e51-d21e-f8b79a3bca0f"
      },
      "execution_count": null,
      "outputs": [
        {
          "output_type": "stream",
          "name": "stdout",
          "text": [
            "3\n",
            "A=28.2743\n"
          ]
        }
      ]
    },
    {
      "cell_type": "code",
      "source": [
        "#BeeCrowd 1003\n",
        "\n",
        "A = int(input())\n",
        "B = int(input())\n",
        "SOMA = A + B\n",
        "print(f'SOMA = {SOMA}')\n"
      ],
      "metadata": {
        "colab": {
          "base_uri": "https://localhost:8080/"
        },
        "id": "1Uw7jS499bIi",
        "outputId": "c9d5b9cb-3a34-4970-8199-900ac9381136"
      },
      "execution_count": null,
      "outputs": [
        {
          "output_type": "stream",
          "name": "stdout",
          "text": [
            "-10\n",
            "4\n",
            "SOMA = -6\n"
          ]
        }
      ]
    },
    {
      "cell_type": "markdown",
      "source": [
        "Comandos condicionais: if"
      ],
      "metadata": {
        "id": "o4RfWyV69HOL"
      }
    },
    {
      "cell_type": "code",
      "source": [
        "idade = int(input('digite sua idade:'))\n",
        "if( idade >= 18 ):\n",
        "  print('você pode ter CNH')"
      ],
      "metadata": {
        "colab": {
          "base_uri": "https://localhost:8080/"
        },
        "id": "ItdZXerT9K1I",
        "outputId": "f47daaff-8a97-405f-cb17-d6068b255c89"
      },
      "execution_count": null,
      "outputs": [
        {
          "output_type": "stream",
          "name": "stdout",
          "text": [
            "digite sua idade:18\n",
            "você pode ter CNH\n"
          ]
        }
      ]
    },
    {
      "cell_type": "markdown",
      "source": [
        "Operadores de comparação\n",
        "```\n",
        "== igualdade\n",
        "!= diferente de\n",
        "> maior que\n",
        ">= maior ou igual\n",
        "< menor\n",
        "<= menor ou igual\n",
        "\n",
        "and\n",
        "or\n",
        "not\n",
        "\n",
        "```"
      ],
      "metadata": {
        "id": "5dEZXQ8Q9rKS"
      }
    },
    {
      "cell_type": "code",
      "source": [
        "x = int(input('chute um número de 1 a 100:'))\n",
        "if( x == 50 ):\n",
        "  print('você acertou')\n",
        "  print('teste 4')\n",
        "  print('teste 5')"
      ],
      "metadata": {
        "colab": {
          "base_uri": "https://localhost:8080/"
        },
        "id": "LmPyH0yz9qZd",
        "outputId": "85a6f46e-8a4b-4ff2-d670-1903ae78379e"
      },
      "execution_count": null,
      "outputs": [
        {
          "output_type": "stream",
          "name": "stdout",
          "text": [
            "chute um número de 1 a 100:50\n",
            "você acertou\n",
            "teste 4\n",
            "teste 5\n"
          ]
        }
      ]
    },
    {
      "cell_type": "code",
      "source": [
        "idade = int(input('digite sua idade:'))\n",
        "if( idade >= 18 ):\n",
        "  print('você pode ter CNH')\n",
        "else:\n",
        "  print('você não pode ter CNH')"
      ],
      "metadata": {
        "colab": {
          "base_uri": "https://localhost:8080/"
        },
        "id": "19k3KUaQ_R1W",
        "outputId": "ee4bebb0-c517-4b89-be21-3e2abc2c8387"
      },
      "execution_count": null,
      "outputs": [
        {
          "output_type": "stream",
          "name": "stdout",
          "text": [
            "digite sua idade:15\n",
            "você não pode ter CNH\n"
          ]
        }
      ]
    },
    {
      "cell_type": "code",
      "source": [
        "# programa do IMC\n",
        "peso = float(input('Informe seu peso:'))\n",
        "altura = float(input('Informe sua altura:'))\n",
        "imc = peso / altura**2\n",
        "print(f'{imc:.3f}')\n",
        "\n",
        "if( imc < 18.5 ):\n",
        "  print('magro')\n",
        "elif (imc < 25):\n",
        "  print('normal')\n",
        "elif (imc < 30):\n",
        "  print('sobrepeso')\n",
        "else:\n",
        "  print('obeso')"
      ],
      "metadata": {
        "colab": {
          "base_uri": "https://localhost:8080/"
        },
        "id": "46xeoLng_00e",
        "outputId": "02fc4541-f466-4f23-83d5-add8aedcd0af"
      },
      "execution_count": null,
      "outputs": [
        {
          "output_type": "stream",
          "name": "stdout",
          "text": [
            "Informe seu peso:110\n",
            "Informe sua altura:1.60\n",
            "42.969\n",
            "obeso\n"
          ]
        }
      ]
    },
    {
      "cell_type": "markdown",
      "source": [
        "Fazer um programa que lê dois números inteiros e os imprime na ordem crescente\n"
      ],
      "metadata": {
        "id": "5U6On6zFB6Jm"
      }
    },
    {
      "cell_type": "code",
      "source": [
        "a = int(input('digite um número:'))\n",
        "b = int(input('digite outro número:'))\n",
        "\n",
        "if( a <= b ):\n",
        "  print(f'{a} {b}')\n",
        "else:\n",
        "  print(f'{b} {a}')"
      ],
      "metadata": {
        "colab": {
          "base_uri": "https://localhost:8080/"
        },
        "id": "jppOqgUXDzdd",
        "outputId": "ef7fcb9b-01f6-4d02-bd04-a7c43d02331d"
      },
      "execution_count": null,
      "outputs": [
        {
          "output_type": "stream",
          "name": "stdout",
          "text": [
            "digite um número:10\n",
            "digite outro número:4\n",
            "4 10\n"
          ]
        }
      ]
    },
    {
      "cell_type": "markdown",
      "source": [
        "Mesmo problema, mas com 3 números:\n",
        "```\n",
        "1 2 3 - a b c\n",
        "1 3 2 - a c b\n",
        "2 1 3 - b a c\n",
        "2 3 1 - b c a\n",
        "3 1 2 - c a b\n",
        "3 2 1 - c b a\n",
        "```"
      ],
      "metadata": {
        "id": "YhijloNKEZAK"
      }
    },
    {
      "cell_type": "code",
      "source": [
        "a = int(input('digite um número:'))\n",
        "b = int(input('digite outro número:'))\n",
        "c = int(input('digite mais um número:'))\n",
        "\n",
        "if ( a <= b and b <= c ):\n",
        "  print(f'{a} {b} {c}')\n",
        "elif (a <= c and c <= b):\n",
        "  print(f'{a} {c} {b}')\n",
        "elif (b <= a and a <= c):\n",
        "  print(f'{b} {a} {c}')\n",
        "elif (b <= c and c <= a):\n",
        "  print(f'{b} {c} {a}')\n",
        "elif (c <= a and a <= b):\n",
        "  print(f'{c} {a} {b}')\n",
        "else:\n",
        "  print(f'{c} {b} {a}')"
      ],
      "metadata": {
        "colab": {
          "base_uri": "https://localhost:8080/"
        },
        "id": "h0KKpxMIEYBS",
        "outputId": "597a5b62-9a4e-4d0e-dc11-c08c7884d2f3"
      },
      "execution_count": null,
      "outputs": [
        {
          "output_type": "stream",
          "name": "stdout",
          "text": [
            "digite um número:2\n",
            "digite outro número:1\n",
            "digite mais um número:1\n",
            "1 1 2\n"
          ]
        }
      ]
    },
    {
      "cell_type": "markdown",
      "source": [
        "alguns exemplos de entrada de vários dados"
      ],
      "metadata": {
        "id": "bWTyl47VHqvp"
      }
    },
    {
      "cell_type": "code",
      "source": [
        "nome, nomeDoMeio, sobrenome = input().split()\n",
        "\n",
        "print(nome)\n",
        "print(nomeDoMeio)\n",
        "print(sobrenome)"
      ],
      "metadata": {
        "colab": {
          "base_uri": "https://localhost:8080/"
        },
        "id": "9qu5aZzfHuZ6",
        "outputId": "34d5a3ab-8a8c-4240-c9cf-dfa2bda82cd3"
      },
      "execution_count": null,
      "outputs": [
        {
          "output_type": "stream",
          "name": "stdout",
          "text": [
            "Eugênio Akihiro Nassu\n",
            "Eugênio\n",
            "Akihiro\n",
            "Nassu\n"
          ]
        }
      ]
    },
    {
      "cell_type": "code",
      "source": [
        "a, b, c = input().split()\n",
        "a = int(a)\n",
        "b = int(b)\n",
        "c = int(c)\n",
        "\n",
        "print(f'{a} {b} {c}')"
      ],
      "metadata": {
        "colab": {
          "base_uri": "https://localhost:8080/"
        },
        "id": "9IhAIKX4IFXf",
        "outputId": "ca121302-d505-4c9f-9455-7cb9a6360834"
      },
      "execution_count": null,
      "outputs": [
        {
          "output_type": "stream",
          "name": "stdout",
          "text": [
            "10 20 30\n",
            "10 20 30\n"
          ]
        }
      ]
    },
    {
      "cell_type": "code",
      "source": [
        "x, y, z = 1, 2, 3\n",
        "print(x)\n",
        "print(y)\n",
        "print(z)"
      ],
      "metadata": {
        "colab": {
          "base_uri": "https://localhost:8080/"
        },
        "id": "LudSdWsgIsV_",
        "outputId": "c9246a12-46f1-413b-b2db-bd2adfa34f71"
      },
      "execution_count": null,
      "outputs": [
        {
          "output_type": "stream",
          "name": "stdout",
          "text": [
            "1\n",
            "2\n",
            "3\n"
          ]
        }
      ]
    },
    {
      "cell_type": "markdown",
      "source": [
        "Operadores avançados\n",
        "```\n",
        "AND Bit a Bit operador &\n",
        "\n",
        "0B101011101\n",
        "0B110100001\n",
        "-----------\n",
        "0B100000001\n",
        "\n",
        "OR Bit a Bit - operador |\n",
        "0B101011101\n",
        "0B110100001\n",
        "-----------\n",
        "0B111111101\n",
        "\n",
        "XOR bit a bit - operador ^\n",
        "0B101011101\n",
        "0B110100001\n",
        "-----------\n",
        "0B011111100\n",
        "\n",
        "Deslocamento (shift) para a direita >>\n",
        "\n",
        "0B101010111 >> 3 = 0B101010\n",
        "\n",
        "Deslocamento (shift para a esquerda) <<\n",
        "\n",
        "0B101010111 >> 3 = 0B101010111000\n",
        "```"
      ],
      "metadata": {
        "id": "7FWwNLDbJCoM"
      }
    },
    {
      "cell_type": "code",
      "source": [
        "print(bin(0B101011101 & 0B110100001))\n",
        "\n",
        "print(bin(0B101011101 | 0B110100001))\n",
        "\n",
        "print(bin(0B101011101 ^ 0B110100001))\n",
        "\n",
        "print(bin(0B101010111 >> 3))\n",
        "\n",
        "print(bin(0B101010111 << 4))"
      ],
      "metadata": {
        "colab": {
          "base_uri": "https://localhost:8080/"
        },
        "id": "ugmRh5dwJCKf",
        "outputId": "4989511d-167d-4d40-9597-58e5e038f67e"
      },
      "execution_count": null,
      "outputs": [
        {
          "output_type": "stream",
          "name": "stdout",
          "text": [
            "0b100000001\n",
            "0b111111101\n",
            "0b11111100\n",
            "0b101010\n",
            "0b1010101110000\n"
          ]
        }
      ]
    },
    {
      "cell_type": "code",
      "source": [
        "print(bin(0B101011101 ^ 0B110100001))\n",
        "print(bin((0B101011101 ^ 0B110100001) ^ 0B110100001))"
      ],
      "metadata": {
        "colab": {
          "base_uri": "https://localhost:8080/"
        },
        "id": "p790Tn4n_LB4",
        "outputId": "183d0bb8-71bf-4bd8-c99b-481239279cc5"
      },
      "execution_count": 2,
      "outputs": [
        {
          "output_type": "stream",
          "name": "stdout",
          "text": [
            "0b11111100\n",
            "0b101011101\n"
          ]
        }
      ]
    },
    {
      "cell_type": "markdown",
      "source": [
        "```\n",
        "Atribuição com operador:\n",
        "+=\n",
        "-=\n",
        "*=\n",
        "/=\n",
        "//=\n",
        "%=\n",
        "**=\n",
        ">>=\n",
        "<<=\n",
        "&=\n",
        "|=\n",
        "^=\n",
        "\n",
        "```"
      ],
      "metadata": {
        "id": "Ta17Pbo3Mi27"
      }
    },
    {
      "cell_type": "code",
      "source": [
        "x += 1 # x = x + 1\n",
        "x |= 2 # x = x | 2"
      ],
      "metadata": {
        "id": "HuooX77yMWiE"
      },
      "execution_count": null,
      "outputs": []
    },
    {
      "cell_type": "markdown",
      "source": [
        "Dados 3 números reais, dizer se eles formam um triângulo retângulo"
      ],
      "metadata": {
        "id": "TnmrSn8ANFzy"
      }
    },
    {
      "cell_type": "code",
      "source": [
        "a , b, c = input('Digite os 3 lados do triângulo:').split()\n",
        "a = float(a)\n",
        "b = float(b)\n",
        "c = float(c)\n",
        "\n",
        "if (a**2 + b**2 == c**2 or a**2 + c**2 == b**2 or b**2 + c**2 == a**2 ):\n",
        "  print('triângulo retângulo')\n",
        "else:\n",
        "  print('não é triângulo retângulo')"
      ],
      "metadata": {
        "colab": {
          "base_uri": "https://localhost:8080/"
        },
        "id": "Umo8M2bnNATQ",
        "outputId": "257b393f-9321-4599-bf25-8ea74c727551"
      },
      "execution_count": null,
      "outputs": [
        {
          "output_type": "stream",
          "name": "stdout",
          "text": [
            "Digite os 3 lados do triângulo:1 1 1\n",
            "não é triângulo retângulo\n"
          ]
        }
      ]
    },
    {
      "cell_type": "code",
      "source": [
        "a,b,c,d = input().split()\n",
        "a = int(a)\n",
        "b = int(b)\n",
        "c = int(c)\n",
        "d = int(d)\n",
        "\n",
        "if(b>c and d > a and c+d>a+b and (c > 0 and d > 0) and a%2==0):\n",
        "    print('Valores aceitos')\n",
        "else:\n",
        "    print('Valores nao aceitos')"
      ],
      "metadata": {
        "id": "iAm9a2X4Q2-U"
      },
      "execution_count": null,
      "outputs": []
    },
    {
      "cell_type": "markdown",
      "source": [
        "Dados 3 números inteiros, dizer se eles formam uma data válida\n",
        "\n",
        "Exemplos:\n",
        "\n",
        "29\n",
        "9\n",
        "2025\n",
        "data válida\n",
        "31\n",
        "9\n",
        "2025\n",
        "data inválida\n",
        "35\n",
        "10\n",
        "2000\n",
        "data inválida\n",
        "29\n",
        "2\n",
        "2024\n",
        "\n",
        "365,256363\n",
        "\n",
        "Ano: vamos considerar anos maiores que zero válidos\n",
        "Mês: tem que ser entre 1 e 12 (inclusive)\n",
        "dia:\n",
        "se mês for 1, 3, 5, 7, 8, 10, 12 tem que ser entre 1 e 31\n",
        "se mês for 4, 6, 9, 11 tem que ser entre 1 e 30\n",
        "Se for 2:\n",
        "de 4 em 4 anos em anos não múltiplos de 100 ou se o ano for múltiplo de 400, 29 dias, nos outros 28.\n",
        "\n",
        "29\n",
        "2\n",
        "1900\n",
        "data inválida\n",
        "\n",
        "29\n",
        "2\n",
        "2000\n",
        "data válida\n",
        "\n"
      ],
      "metadata": {
        "id": "SDAOyoxeqS_h"
      }
    },
    {
      "cell_type": "code",
      "source": [
        "def bissexto(ano):\n",
        "  return ((ano % 4 == 0) and (ano % 100 != 0)) or (ano % 400 == 0)\n",
        "\n",
        "dia = int(input('dia:'))\n",
        "mes = int(input('mês:'))\n",
        "ano = int(input('ano:'))\n",
        "valida = True\n",
        "if (mes < 1 or mes > 12):\n",
        "  valida = False\n",
        "else:\n",
        "  if(mes==1 or mes==3 or mes==5 or mes==7 or mes==8 or mes==10 or mes==12):\n",
        "    if(dia < 1 or dia > 31):\n",
        "      valida = False\n",
        "  elif (mes==4 or mes==6 or mes==9 or mes==11):\n",
        "    if ( dia < 1 or dia > 30):\n",
        "      valida = False\n",
        "  elif (bissexto(ano)):\n",
        "    if ( dia < 1 or dia > 29):\n",
        "      valida = False\n",
        "  else:\n",
        "    if ( dia < 1 or dia > 28):\n",
        "      valida = False\n",
        "\n",
        "if( valida ):\n",
        "  print('data válida')\n",
        "else:\n",
        "  print('data inválida')"
      ],
      "metadata": {
        "colab": {
          "base_uri": "https://localhost:8080/"
        },
        "id": "_x2AzLxSqSfA",
        "outputId": "ac804f97-fe4b-4bda-f9e2-472ac9dfc42e"
      },
      "execution_count": null,
      "outputs": [
        {
          "output_type": "stream",
          "name": "stdout",
          "text": [
            "dia:40\n",
            "mês:30\n",
            "ano:2000\n",
            "data inválida\n"
          ]
        }
      ]
    },
    {
      "cell_type": "markdown",
      "source": [
        "laços de repetição\n",
        "Executam um comando de maneira repetida\n",
        "Podemos classificar como:\n",
        "- número definido de repetições\n",
        "- número indefinido de repetições\n",
        "\n",
        "Número definido de repetições:\n",
        "comando for\n"
      ],
      "metadata": {
        "id": "IkII9QEPzfpI"
      }
    },
    {
      "cell_type": "code",
      "source": [
        "for x in range(10):\n",
        "  print(x)"
      ],
      "metadata": {
        "colab": {
          "base_uri": "https://localhost:8080/"
        },
        "id": "FSK0ecpd0W8M",
        "outputId": "3aa0329d-d8f1-43f8-c22c-0e9d9623bbae"
      },
      "execution_count": null,
      "outputs": [
        {
          "output_type": "stream",
          "name": "stdout",
          "text": [
            "0\n",
            "1\n",
            "2\n",
            "3\n",
            "4\n",
            "5\n",
            "6\n",
            "7\n",
            "8\n",
            "9\n"
          ]
        }
      ]
    },
    {
      "cell_type": "code",
      "source": [
        "for x in range(1,11):\n",
        "  print(x)"
      ],
      "metadata": {
        "colab": {
          "base_uri": "https://localhost:8080/"
        },
        "id": "s1NQ7h_40ryG",
        "outputId": "be577721-4aa0-437d-bef1-7b5ecb70dd92"
      },
      "execution_count": null,
      "outputs": [
        {
          "output_type": "stream",
          "name": "stdout",
          "text": [
            "1\n",
            "2\n",
            "3\n",
            "4\n",
            "5\n",
            "6\n",
            "7\n",
            "8\n",
            "9\n",
            "10\n"
          ]
        }
      ]
    },
    {
      "cell_type": "code",
      "source": [
        "for x in range(1,11,2):\n",
        "  print(x)"
      ],
      "metadata": {
        "colab": {
          "base_uri": "https://localhost:8080/"
        },
        "id": "ab6SW7hx08De",
        "outputId": "871c13d0-de96-46e9-97ce-e0500b61d6a0"
      },
      "execution_count": null,
      "outputs": [
        {
          "output_type": "stream",
          "name": "stdout",
          "text": [
            "1\n",
            "3\n",
            "5\n",
            "7\n",
            "9\n"
          ]
        }
      ]
    },
    {
      "cell_type": "code",
      "source": [
        "for x in range(2,11,2):\n",
        "  print(x)"
      ],
      "metadata": {
        "colab": {
          "base_uri": "https://localhost:8080/"
        },
        "id": "1n5tUhg01HVT",
        "outputId": "c9394f4d-1b0e-4bd7-a469-eea56dac810d"
      },
      "execution_count": null,
      "outputs": [
        {
          "output_type": "stream",
          "name": "stdout",
          "text": [
            "2\n",
            "4\n",
            "6\n",
            "8\n",
            "10\n"
          ]
        }
      ]
    },
    {
      "cell_type": "markdown",
      "source": [
        "Dado um número inteiro, imprimir sua tabuada"
      ],
      "metadata": {
        "id": "iv-Zxzda1VQv"
      }
    },
    {
      "cell_type": "code",
      "source": [
        "x = int(input('digite o número:'))\n",
        "\n",
        "print(f'tabuada do {x}:')\n",
        "\n",
        "for i in range(1,11):\n",
        "  print(f'{x:2} x {i:2} = {x*i:3}')"
      ],
      "metadata": {
        "colab": {
          "base_uri": "https://localhost:8080/"
        },
        "id": "37DtLrQ11UnY",
        "outputId": "cd91db14-f532-48af-d4cf-9d75b3eae6dc"
      },
      "execution_count": null,
      "outputs": [
        {
          "output_type": "stream",
          "name": "stdout",
          "text": [
            "digite o número:6\n",
            "tabuada do 6:\n",
            " 6 x  1 =   6\n",
            " 6 x  2 =  12\n",
            " 6 x  3 =  18\n",
            " 6 x  4 =  24\n",
            " 6 x  5 =  30\n",
            " 6 x  6 =  36\n",
            " 6 x  7 =  42\n",
            " 6 x  8 =  48\n",
            " 6 x  9 =  54\n",
            " 6 x 10 =  60\n"
          ]
        }
      ]
    },
    {
      "cell_type": "markdown",
      "source": [
        "Dado um número, calcular a soma dos números de 1 ao número digitado.\n",
        "Ex:\n",
        "6\n",
        "1+2+3+4+5+6 = 21\n",
        "\n",
        "\n",
        "```\n",
        "\n",
        "1    2    3   ....    498  499  500\n",
        "1000 999  998 ....    503  502  501\n",
        "---------------------------------\n",
        "1001 1001 1001       1001 1001 1001 = 500 * 1001 = 500500\n",
        "```"
      ],
      "metadata": {
        "id": "XV8K9euG2jP0"
      }
    },
    {
      "cell_type": "code",
      "source": [
        "n = int(input('digite o número:'))\n",
        "soma = 0\n",
        "\n",
        "for i in range(1,n+1):\n",
        "  soma += i\n",
        "\n",
        "print(soma)"
      ],
      "metadata": {
        "colab": {
          "base_uri": "https://localhost:8080/"
        },
        "id": "nb_0nsat2qBv",
        "outputId": "80012dde-1640-4eff-b570-50da8434c212"
      },
      "execution_count": null,
      "outputs": [
        {
          "output_type": "stream",
          "name": "stdout",
          "text": [
            "digite o número:20\n",
            "210\n"
          ]
        }
      ]
    },
    {
      "cell_type": "code",
      "source": [
        "n = int(input('digite o número:'))\n",
        "soma = (1+n)*(n/2)\n",
        "print(soma)"
      ],
      "metadata": {
        "colab": {
          "base_uri": "https://localhost:8080/"
        },
        "id": "j02Xnof36wNu",
        "outputId": "2e04cfb3-739e-40d5-c413-0f0f60866244"
      },
      "execution_count": null,
      "outputs": [
        {
          "output_type": "stream",
          "name": "stdout",
          "text": [
            "digite o número:5\n",
            "15.0\n"
          ]
        }
      ]
    },
    {
      "cell_type": "markdown",
      "source": [
        "dados as notas de n alunos, calcule a média das notas"
      ],
      "metadata": {
        "id": "QQ6VImiW7OEU"
      }
    },
    {
      "cell_type": "code",
      "source": [
        "n = int(input('digite a quantidade de alunos:'))\n",
        "soma = 0\n",
        "for i in range(n):\n",
        "  nota = float(input('digite a nota:'))\n",
        "  soma += nota\n",
        "media = soma / n\n",
        "print( f'a média das notas é {media:.2f}' )"
      ],
      "metadata": {
        "colab": {
          "base_uri": "https://localhost:8080/"
        },
        "id": "Xf-_jVSj7NcW",
        "outputId": "106f612d-14cd-47e6-ea41-2cee62664116"
      },
      "execution_count": null,
      "outputs": [
        {
          "output_type": "stream",
          "name": "stdout",
          "text": [
            "digite a quantidade de alunos:5\n",
            "digite a nota:8\n",
            "digite a nota:7\n",
            "digite a nota:6\n",
            "digite a nota:7.5\n",
            "digite a nota:9\n",
            "a média das notas é 7.50\n"
          ]
        }
      ]
    },
    {
      "cell_type": "markdown",
      "source": [
        "Dadas as notas de n alunos, dizer qual foi a maior nota"
      ],
      "metadata": {
        "id": "MF0GmJLk8K3G"
      }
    },
    {
      "cell_type": "code",
      "source": [
        "n = int(input('número de alunos:'))\n",
        "print('digite as notas:')\n",
        "nota = float(input('nota:'))\n",
        "maior = nota\n",
        "for i in range(n-1):\n",
        "  nota = float(input('nota:'))\n",
        "  if(nota > maior):\n",
        "    maior = nota\n",
        "print(f'a maior nota é {maior:.1f}')"
      ],
      "metadata": {
        "colab": {
          "base_uri": "https://localhost:8080/"
        },
        "id": "ZYBPvwLk8xsy",
        "outputId": "f86d9d12-be01-4e78-a0c2-342f99495990"
      },
      "execution_count": null,
      "outputs": [
        {
          "output_type": "stream",
          "name": "stdout",
          "text": [
            "número de alunos:5\n",
            "digite as notas:\n",
            "nota:6\n",
            "nota:7\n",
            "nota:10\n",
            "nota:9\n",
            "nota:8\n",
            "a maior nota é 10.0\n"
          ]
        }
      ]
    },
    {
      "cell_type": "code",
      "source": [
        "#exercício 20 de inteiros do macmulti\n",
        "\n",
        "for n in range(10000):\n",
        "  a = n // 100\n",
        "  b = n % 100\n",
        "  if ((a+b)*(a+b)==n):\n",
        "    print(n)"
      ],
      "metadata": {
        "colab": {
          "base_uri": "https://localhost:8080/"
        },
        "id": "On8wKJX1_2I2",
        "outputId": "137e198f-f891-4d5e-aa41-4c74c689de0a"
      },
      "execution_count": null,
      "outputs": [
        {
          "output_type": "stream",
          "name": "stdout",
          "text": [
            "0\n",
            "1\n",
            "2025\n",
            "3025\n",
            "9801\n"
          ]
        }
      ]
    },
    {
      "cell_type": "code",
      "source": [
        "# exercício 3 Macmulti\n",
        "\n",
        "n = int(input('digite n:'))\n",
        "\n",
        "for i in range(1,2*n,2):\n",
        "  print(i)"
      ],
      "metadata": {
        "colab": {
          "base_uri": "https://localhost:8080/"
        },
        "id": "5IvEiEKNARiS",
        "outputId": "5699fc86-ab59-4f13-e670-9424d03c67c0"
      },
      "execution_count": 3,
      "outputs": [
        {
          "output_type": "stream",
          "name": "stdout",
          "text": [
            "digite n:10\n",
            "1\n",
            "3\n",
            "5\n",
            "7\n",
            "9\n",
            "11\n",
            "13\n",
            "15\n",
            "17\n",
            "19\n"
          ]
        }
      ]
    },
    {
      "cell_type": "code",
      "source": [
        "# exercício 3 Macmulti\n",
        "\n",
        "n = int(input('digite n:'))\n",
        "\n",
        "for i in range(1, 2*n):\n",
        "  if( i % 2 == 1 ):\n",
        "    print(i)"
      ],
      "metadata": {
        "colab": {
          "base_uri": "https://localhost:8080/"
        },
        "id": "F3uAGO5gAos9",
        "outputId": "52fa3202-436b-419c-80ca-0f166ef3194a"
      },
      "execution_count": 4,
      "outputs": [
        {
          "output_type": "stream",
          "name": "stdout",
          "text": [
            "digite n:10\n",
            "1\n",
            "3\n",
            "5\n",
            "7\n",
            "9\n",
            "11\n",
            "13\n",
            "15\n",
            "17\n",
            "19\n"
          ]
        }
      ]
    },
    {
      "cell_type": "code",
      "source": [
        "# Problema 1 MacMulti\n",
        "\n",
        "n = int(input('digite um número:'))\n",
        "while n != 0:\n",
        "  print( n ** 2 )\n",
        "  n = int(input('digite um número:'))\n"
      ],
      "metadata": {
        "colab": {
          "base_uri": "https://localhost:8080/"
        },
        "id": "yML24Vx-CH5Z",
        "outputId": "340248c4-33b0-4ab9-9a70-5f8249ce8102"
      },
      "execution_count": 5,
      "outputs": [
        {
          "name": "stdout",
          "output_type": "stream",
          "text": [
            "digite um número:5\n",
            "25\n",
            "digite um número:6\n",
            "36\n",
            "digite um número:2\n",
            "4\n",
            "digite um número:3\n",
            "9\n",
            "digite um número:10\n",
            "100\n",
            "digite um número:7\n",
            "49\n",
            "digite um número:56\n",
            "3136\n",
            "digite um número:45\n",
            "2025\n",
            "digite um número:89\n",
            "7921\n",
            "digite um número:0\n"
          ]
        }
      ]
    },
    {
      "cell_type": "markdown",
      "source": [
        "Dados dois números inteiros x e y, calcule x // y, sem usar o operador //\n",
        "Calcule também x % y\n",
        "\n",
        "10 // 3\n",
        "\n"
      ],
      "metadata": {
        "id": "1KfyILsIC4ZM"
      }
    },
    {
      "cell_type": "code",
      "source": [
        "x = int(input('digite x:'))\n",
        "y = int(input('digite y:'))\n",
        "\n",
        "resto = x\n",
        "quociente = 0\n",
        "\n",
        "while resto >= y:\n",
        "  resto -= y\n",
        "  quociente += 1\n",
        "\n",
        "print(f'quociente: {quociente}')\n",
        "print(f'resto: {resto}')"
      ],
      "metadata": {
        "colab": {
          "base_uri": "https://localhost:8080/"
        },
        "id": "0x793ZA4C369",
        "outputId": "8ea14cd4-be02-4763-8b87-804544693229"
      },
      "execution_count": 7,
      "outputs": [
        {
          "output_type": "stream",
          "name": "stdout",
          "text": [
            "digite x:2\n",
            "digite y:11\n",
            "quociente: 0\n",
            "resto: 2\n"
          ]
        }
      ]
    },
    {
      "cell_type": "code",
      "source": [
        "# imprimir seu nome 10 vezes, usando o while\n",
        "\n",
        "nome = input('digite seu nome:')\n",
        "\n",
        "contador = 0;\n",
        "while contador < 10:\n",
        "  print(nome)\n",
        "  contador += 1\n",
        ""
      ],
      "metadata": {
        "colab": {
          "base_uri": "https://localhost:8080/"
        },
        "id": "ICuzQ3mEFWrl",
        "outputId": "4cf6b2c3-9981-4918-868f-b51f3ff2874e"
      },
      "execution_count": 8,
      "outputs": [
        {
          "output_type": "stream",
          "name": "stdout",
          "text": [
            "digite seu nome:eugenio\n",
            "eugenio\n",
            "eugenio\n",
            "eugenio\n",
            "eugenio\n",
            "eugenio\n",
            "eugenio\n",
            "eugenio\n",
            "eugenio\n",
            "eugenio\n",
            "eugenio\n"
          ]
        }
      ]
    },
    {
      "cell_type": "code",
      "source": [
        "# Macmulti problema 10: verificar se um número é triangular\n",
        "\n",
        "n = int(input('digite n:'))\n",
        "i = 1\n",
        "while i * (i+1) * (i+2) < n:\n",
        "  i += 1\n",
        "if n == i * (i+1) * (i+2):\n",
        "  print(f'{n} é triangular')\n",
        "else:\n",
        "  print(f'{n} não é triangular')"
      ],
      "metadata": {
        "colab": {
          "base_uri": "https://localhost:8080/"
        },
        "id": "0RErU7bmGl7c",
        "outputId": "2aaea26c-b2a8-49e7-c876-dee1dcc1e4f8"
      },
      "execution_count": 10,
      "outputs": [
        {
          "output_type": "stream",
          "name": "stdout",
          "text": [
            "digite n:120\n",
            "120 é triangular\n"
          ]
        }
      ]
    },
    {
      "cell_type": "code",
      "source": [
        "# variação: imprimir os n primeiros números triangulares\n",
        "\n",
        "n = int(input('digite n:'))\n",
        "\n",
        "for i in range(1, n+1):\n",
        "  print(i * (i+1) * (i+2))"
      ],
      "metadata": {
        "colab": {
          "base_uri": "https://localhost:8080/"
        },
        "id": "qUat64J2HWwt",
        "outputId": "48599aeb-6b33-4bc0-ea04-34a88892d0ad"
      },
      "execution_count": 11,
      "outputs": [
        {
          "output_type": "stream",
          "name": "stdout",
          "text": [
            "digite n:10\n",
            "6\n",
            "24\n",
            "60\n",
            "120\n",
            "210\n",
            "336\n",
            "504\n",
            "720\n",
            "990\n",
            "1320\n"
          ]
        }
      ]
    },
    {
      "cell_type": "code",
      "source": [
        "# problema 13 Macmulti\n",
        "\n",
        "n = int(input('digite o número:'))\n",
        "\n",
        "soma = 0\n",
        "\n",
        "for i in range(1, n//2 + 1):\n",
        "  if n % i == 0:\n",
        "    soma += i\n",
        "\n",
        "if soma == n:\n",
        "  print(f'{n} é perfeito')\n",
        "else:\n",
        "  print(f'{n} não é perfeito')"
      ],
      "metadata": {
        "colab": {
          "base_uri": "https://localhost:8080/"
        },
        "id": "6ZZ9Zp4rLkJz",
        "outputId": "5f64f5d4-e590-48e8-bc3f-4d999a210abe"
      },
      "execution_count": 13,
      "outputs": [
        {
          "output_type": "stream",
          "name": "stdout",
          "text": [
            "digite o número:6\n",
            "6 é perfeito\n"
          ]
        }
      ]
    },
    {
      "cell_type": "code",
      "source": [
        "for n in range(1,100001):\n",
        "  soma = 0\n",
        "\n",
        "  for i in range(1, n//2 + 1):\n",
        "    if n % i == 0:\n",
        "      soma += i\n",
        "\n",
        "  if soma == n:\n",
        "    print(f'{n} é perfeito')\n"
      ],
      "metadata": {
        "colab": {
          "base_uri": "https://localhost:8080/",
          "height": 293
        },
        "id": "SuhTDJbXM30j",
        "outputId": "e150b523-4e3c-40d9-c12f-fb2f233c9c1d"
      },
      "execution_count": 16,
      "outputs": [
        {
          "output_type": "stream",
          "name": "stdout",
          "text": [
            "6 é perfeito\n",
            "28 é perfeito\n",
            "496 é perfeito\n",
            "8128 é perfeito\n"
          ]
        },
        {
          "output_type": "error",
          "ename": "KeyboardInterrupt",
          "evalue": "",
          "traceback": [
            "\u001b[0;31m---------------------------------------------------------------------------\u001b[0m",
            "\u001b[0;31mKeyboardInterrupt\u001b[0m                         Traceback (most recent call last)",
            "\u001b[0;32m/tmp/ipython-input-3278233914.py\u001b[0m in \u001b[0;36m<cell line: 0>\u001b[0;34m()\u001b[0m\n\u001b[1;32m      3\u001b[0m \u001b[0;34m\u001b[0m\u001b[0m\n\u001b[1;32m      4\u001b[0m   \u001b[0;32mfor\u001b[0m \u001b[0mi\u001b[0m \u001b[0;32min\u001b[0m \u001b[0mrange\u001b[0m\u001b[0;34m(\u001b[0m\u001b[0;36m1\u001b[0m\u001b[0;34m,\u001b[0m \u001b[0mn\u001b[0m\u001b[0;34m//\u001b[0m\u001b[0;36m2\u001b[0m \u001b[0;34m+\u001b[0m \u001b[0;36m1\u001b[0m\u001b[0;34m)\u001b[0m\u001b[0;34m:\u001b[0m\u001b[0;34m\u001b[0m\u001b[0;34m\u001b[0m\u001b[0m\n\u001b[0;32m----> 5\u001b[0;31m     \u001b[0;32mif\u001b[0m \u001b[0mn\u001b[0m \u001b[0;34m%\u001b[0m \u001b[0mi\u001b[0m \u001b[0;34m==\u001b[0m \u001b[0;36m0\u001b[0m\u001b[0;34m:\u001b[0m\u001b[0;34m\u001b[0m\u001b[0;34m\u001b[0m\u001b[0m\n\u001b[0m\u001b[1;32m      6\u001b[0m       \u001b[0msoma\u001b[0m \u001b[0;34m+=\u001b[0m \u001b[0mi\u001b[0m\u001b[0;34m\u001b[0m\u001b[0;34m\u001b[0m\u001b[0m\n\u001b[1;32m      7\u001b[0m \u001b[0;34m\u001b[0m\u001b[0m\n",
            "\u001b[0;31mKeyboardInterrupt\u001b[0m: "
          ]
        }
      ]
    },
    {
      "cell_type": "code",
      "source": [
        "# problema 12 Macmulti - cálculo do MDC\n",
        "\n",
        "x = int(input('digite x:'))\n",
        "y = int(input('digite y:'))\n",
        "\n",
        "a = x\n",
        "b = y\n",
        "\n",
        "resto = a % b\n",
        "while resto != 0:\n",
        "  a = b\n",
        "  b = resto\n",
        "  resto = a % b\n",
        "\n",
        "print(f'o MDC de {x} e {y} é {b}')"
      ],
      "metadata": {
        "colab": {
          "base_uri": "https://localhost:8080/"
        },
        "id": "EKJTlJe4Oj9A",
        "outputId": "150110b6-50d7-43f5-ed14-5ec2bf13d3c9"
      },
      "execution_count": 23,
      "outputs": [
        {
          "output_type": "stream",
          "name": "stdout",
          "text": [
            "digite x:24\n",
            "digite y:15\n",
            "o MDC de 24 e 15 é 3\n"
          ]
        }
      ]
    },
    {
      "cell_type": "code",
      "source": [
        "for n in range(100):\n",
        "  print(n)\n",
        "  if ( n == 50 ):\n",
        "    break"
      ],
      "metadata": {
        "colab": {
          "base_uri": "https://localhost:8080/"
        },
        "id": "s1gpqrLnRYfj",
        "outputId": "23f17b83-836c-4269-ee97-e503815d2636"
      },
      "execution_count": 24,
      "outputs": [
        {
          "output_type": "stream",
          "name": "stdout",
          "text": [
            "0\n",
            "1\n",
            "2\n",
            "3\n",
            "4\n",
            "5\n",
            "6\n",
            "7\n",
            "8\n",
            "9\n",
            "10\n",
            "11\n",
            "12\n",
            "13\n",
            "14\n",
            "15\n",
            "16\n",
            "17\n",
            "18\n",
            "19\n",
            "20\n",
            "21\n",
            "22\n",
            "23\n",
            "24\n",
            "25\n",
            "26\n",
            "27\n",
            "28\n",
            "29\n",
            "30\n",
            "31\n",
            "32\n",
            "33\n",
            "34\n",
            "35\n",
            "36\n",
            "37\n",
            "38\n",
            "39\n",
            "40\n",
            "41\n",
            "42\n",
            "43\n",
            "44\n",
            "45\n",
            "46\n",
            "47\n",
            "48\n",
            "49\n",
            "50\n"
          ]
        }
      ]
    },
    {
      "cell_type": "code",
      "source": [
        "# Problema 1 MacMulti\n",
        "\n",
        "n = int(input('digite um número:'))\n",
        "while n != 0:\n",
        "  print( n ** 2 )\n",
        "  n = int(input('digite um número:'))\n",
        "else:\n",
        "  print('fim do programa')"
      ],
      "metadata": {
        "colab": {
          "base_uri": "https://localhost:8080/"
        },
        "id": "uKesJNEoRwjP",
        "outputId": "a29b7980-1ae1-4fce-dbf3-209cc31dd08e"
      },
      "execution_count": 25,
      "outputs": [
        {
          "output_type": "stream",
          "name": "stdout",
          "text": [
            "digite um número:2\n",
            "4\n",
            "digite um número:3\n",
            "9\n",
            "digite um número:4\n",
            "16\n",
            "digite um número:0\n",
            "fim do programa\n"
          ]
        }
      ]
    },
    {
      "cell_type": "code",
      "source": [
        "for n in range(5):\n",
        "  print(n)\n",
        "else:\n",
        "  print('acabou o for')"
      ],
      "metadata": {
        "colab": {
          "base_uri": "https://localhost:8080/"
        },
        "id": "Si6jXTJNR_Xt",
        "outputId": "89231b16-a1a6-4270-f6c9-5913a2d97ef4"
      },
      "execution_count": 26,
      "outputs": [
        {
          "output_type": "stream",
          "name": "stdout",
          "text": [
            "0\n",
            "1\n",
            "2\n",
            "3\n",
            "4\n",
            "acabou o for\n"
          ]
        }
      ]
    }
  ]
}